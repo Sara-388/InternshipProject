{
 "cells": [
  {
   "cell_type": "markdown",
   "metadata": {},
   "source": [
    "# PCAM Extraction Notebook - Quick Start Guide\n",
    "\n",
    "This Colab notebook is designed to extract the preprocessed PCAM dataset after it has been zipped (from Preprocessing_PCAM.ipynb) and uploaded to Google Drive. The notebook first mounts your Google Drive to access files, then unzips the dataset to either local Colab storage (fast but temporary) or back to Google Drive (slower but persistent).\n",
    "\n",
    "To use this notebook with any ZIP file, simply modify the `zip_path` variable to point to your ZIP file location in Google Drive, and adjust the `extract_path` to your desired extraction location. The `EXTRACT_TO_LOCAL` flag controls whether data is extracted to temporary Colab storage (deleted after session) or to Google Drive (permanent)—set it to `False` for Drive extraction or `True` for faster local extraction.\n",
    "\n",
    "This workflow is particularly useful when you've preprocessed a large dataset locally (using the Preprocessing_PCAM script), zipped the results to save space, uploaded to Google Drive for cloud access, and now need to extract it in Colab for model training or analysis."
   ]
  },
  {
   "cell_type": "code",
   "execution_count": null,
   "metadata": {
    "colab": {
     "base_uri": "https://localhost:8080/"
    },
    "executionInfo": {
     "elapsed": 16284,
     "status": "ok",
     "timestamp": 1759899020277,
     "user": {
      "displayName": "Mary Isabelle Wisell",
      "userId": "13071132052511244087"
     },
     "user_tz": 420
    },
    "id": "MISKfzUCzvjv",
    "outputId": "6d3dd903-a47b-4fee-d3d4-2262ddff2238"
   },
   "outputs": [
    {
     "name": "stdout",
     "output_type": "stream",
     "text": [
      "Mounted at /content/drive\n",
      "✓ Google Drive mounted successfully!\n",
      "Available at: /content/drive/MyDrive/\n"
     ]
    }
   ],
   "source": [
    "# Import Necessary Libraries\n",
    "# Import the drive module from google.colab to access Drive mounting functions\n",
    "from google.colab import drive\n",
    "# Import os module for operating system operations \n",
    "import os\n",
    "# Improt Path class from pathlib for object-originted file path management\n",
    "from pathlib import Path\n",
    "# Import zipfile module for working with ZIP archives\n",
    "import zipfile\n",
    "# Import os module for file system operations\n",
    "import os\n",
    "\n",
    "# Mount Google Drive to the Colab environment at /content/drive/\n",
    "drive.mount('/content/drive')\n",
    "\n",
    "print(\"✓ Google Drive mounted successfully!\") # Print success message\n",
    "print(f\"Available at: /content/drive/MyDrive/\") # Print the path where Google Drive is accessible in Colab (usually this by default)"
   ]
  },
  {
   "cell_type": "code",
   "execution_count": null,
   "metadata": {
    "colab": {
     "base_uri": "https://localhost:8080/"
    },
    "executionInfo": {
     "elapsed": 3278462,
     "status": "ok",
     "timestamp": 1759902314728,
     "user": {
      "displayName": "Mary Isabelle Wisell",
      "userId": "13071132052511244087"
     },
     "user_tz": 420
    },
    "id": "dKmwOwxL0zXP",
    "outputId": "10ab4888-e2db-4bd1-dfcd-99c96c2d0241"
   },
   "outputs": [
    {
     "name": "stdout",
     "output_type": "stream",
     "text": [
      "Extraction completed to: /content/drive/MyDrive/Sekeh_Lab/Sara_Project/Datasets/PCAM\n"
     ]
    }
   ],
   "source": [
    "# Define the full path to the ZIP file containing the PCAM dataset in Google Drive\n",
    "### YOU WILL NEED TO CHANGE THIS ###\n",
    "zip_path = \"/content/drive/MyDrive/Sekeh_Lab/Sara_Project/PCam_Extracted_100k.zip\"\n",
    "\n",
    "# Choose where to extract: local Colab storage (fast; but deleted after session) or Drive (persistent)\n",
    "EXTRACT_TO_LOCAL = False  # Set to False to extract to Google Drive\n",
    "\n",
    "# Check if user wants to extract to local Colab storage\n",
    "if EXTRACT_TO_LOCAL:\n",
    "    # Set extraction path to local Colab temporary storage\n",
    "    extract_path = \"/content/pcam_data\"\n",
    "    # Inform user about extracting to local storage\n",
    "    print(\"Extracting to LOCAL Colab storage (faster, temporary)\")\n",
    "    # Warn user that local storage is deleted when Colab session ends\n",
    "    print(\"⚠️  WARNING: Data will be deleted when session ends\")\n",
    "else: # User wants to extract to Google Drive (persistent storage)\n",
    "    # Set extraction path to Google Drive location (slower but persistent)\n",
    "    extract_path = \"/content/drive/MyDrive/Sekeh_Lab/Sara_Project/Datasets/PCAM\"\n",
    "    # Create the extraction directory and all parent directories if they don't exist\n",
    "    os.makedirs(extract_path, exist_ok=True)\n",
    "\n",
    "# Open the ZIP files in read mode as a context manager\n",
    "with zipfile.ZipFile(zip_path, 'r') as zip_ref:\n",
    "    # Extract all contents of the ZIP file to the specified extraction path\n",
    "    zip_ref.extractall(extract_path)\n",
    "\n",
    "# Pritn confirmation message showing where files were extracted\n",
    "print(f\"Extraction completed to: {extract_path}\")"
   ]
  }
 ],
 "metadata": {
  "colab": {
   "authorship_tag": "ABX9TyMOXG7G2BOf80PQ4nnQd/it",
   "provenance": []
  },
  "kernelspec": {
   "display_name": "Python 3",
   "name": "python3"
  },
  "language_info": {
   "name": "python"
  }
 },
 "nbformat": 4,
 "nbformat_minor": 0
}
